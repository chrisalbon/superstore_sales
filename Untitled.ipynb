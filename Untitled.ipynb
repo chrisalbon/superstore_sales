{
 "cells": [
  {
   "cell_type": "code",
   "execution_count": 21,
   "metadata": {
    "collapsed": false
   },
   "outputs": [],
   "source": [
    "import pandas as pd"
   ]
  },
  {
   "cell_type": "code",
   "execution_count": 22,
   "metadata": {
    "collapsed": false
   },
   "outputs": [],
   "source": [
    "df = pd.read_csv('superstore_sales.csv', encoding='latin-1')"
   ]
  },
  {
   "cell_type": "code",
   "execution_count": 30,
   "metadata": {
    "collapsed": false
   },
   "outputs": [],
   "source": [
    "df = df[['Order ID','Order Date','Order Priority','Order Quantity',\n",
    "         'Sales','Profit','Unit Price','Customer Name','Customer Segment','Product Category', 'State', 'Location']]"
   ]
  },
  {
   "cell_type": "code",
   "execution_count": 32,
   "metadata": {
    "collapsed": false
   },
   "outputs": [
    {
     "data": {
      "text/plain": [
       "'<table border=\"1\" class=\"dataframe\">\\n  <thead>\\n    <tr style=\"text-align: right;\">\\n      <th></th>\\n      <th>Order ID</th>\\n      <th>Order Date</th>\\n      <th>Order Priority</th>\\n      <th>Order Quantity</th>\\n      <th>Sales</th>\\n      <th>Profit</th>\\n      <th>Unit Price</th>\\n      <th>Customer Name</th>\\n      <th>Customer Segment</th>\\n      <th>Product Category</th>\\n      <th>State</th>\\n      <th>Location</th>\\n    </tr>\\n  </thead>\\n  <tbody>\\n    <tr>\\n      <th>0</th>\\n      <td>3</td>\\n      <td>10/13/10</td>\\n      <td>Low</td>\\n      <td>6</td>\\n      <td>261.54</td>\\n      <td>-213.25</td>\\n      <td>38.94</td>\\n      <td>Muhammed MacIntyre</td>\\n      <td>Small Business</td>\\n      <td>Office Supplies</td>\\n      <td>Alabama</td>\\n      <td>(-6.0816889999999999, 145.39188100000001)</td>\\n    </tr>\\n    <tr>\\n      <th>...</th>\\n      <td>...</td>\\n      <td>...</td>\\n      <td>...</td>\\n      <td>...</td>\\n      <td>...</td>\\n      <td>...</td>\\n      <td>...</td>\\n      <td>...</td>\\n      <td>...</td>\\n      <td>...</td>\\n      <td>...</td>\\n      <td>...</td>\\n    </tr>\\n    <tr>\\n      <th>8398</th>\\n      <td>56581</td>\\n      <td>2/8/09</td>\\n      <td>High</td>\\n      <td>20</td>\\n      <td>2026.01</td>\\n      <td>580.43</td>\\n      <td>105.98</td>\\n      <td>Grant Donatelli</td>\\n      <td>Consumer</td>\\n      <td>Furniture</td>\\n      <td>Michigan</td>\\n      <td>(-23.378941000000001, 150.51232300000001)</td>\\n    </tr>\\n  </tbody>\\n</table>'"
      ]
     },
     "execution_count": 32,
     "metadata": {},
     "output_type": "execute_result"
    }
   ],
   "source": [
    "df.to_html(max_rows=2)"
   ]
  },
  {
   "cell_type": "code",
   "execution_count": null,
   "metadata": {
    "collapsed": true
   },
   "outputs": [],
   "source": []
  }
 ],
 "metadata": {
  "kernelspec": {
   "display_name": "Python 3",
   "language": "python",
   "name": "python3"
  },
  "language_info": {
   "codemirror_mode": {
    "name": "ipython",
    "version": 3
   },
   "file_extension": ".py",
   "mimetype": "text/x-python",
   "name": "python",
   "nbconvert_exporter": "python",
   "pygments_lexer": "ipython3",
   "version": "3.5.1"
  }
 },
 "nbformat": 4,
 "nbformat_minor": 0
}
